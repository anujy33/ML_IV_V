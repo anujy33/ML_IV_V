{
 "cells": [
  {
   "cell_type": "code",
   "execution_count": null,
   "metadata": {},
   "outputs": [],
   "source": [
    "# Predicting Survival in the Titanic Data Set\n",
    "# We will be using a decision tree to make predictions about the Titanic data set from\n",
    "# Kaggle. This data set provides information on the Titanic passengers and can be used to\n",
    "# predict whether a passenger survived or not.\n",
    "# Loading Data and modules\n",
    "# import numpy as np\n",
    "# import pandas as pd\n",
    "# import seaborn as sb\n",
    "# import matplotlib.pyplot as plt\n",
    "# import sklearn\n",
    "# from pandas import Series, DataFrame\n",
    "# from pylab import rcParams\n",
    "# from sklearn import preprocessing\n",
    "# from sklearn.linear_model import LogisticRegression\n",
    "# from sklearn.cross_validation import train_test_split\n",
    "# from sklearn import metrics\n",
    "\n",
    "# from sklearn.metrics import classification_report\n",
    "# Url=\n",
    "    # https://raw.githubusercontent.com/BigDataGal/Python-for-Data-Science/master/titanic\n",
    "    # -train.csv\n",
    "# titanic = pd.read_csv(url)\n",
    "# titanic.columns =\n",
    "# ['PassengerId','Survived','Pclass','Name','Sex','Age','SibSp','Parch','Ticket','Fare','Cabin','E\n",
    "# mbarked']\n",
    "# You use only Pclass, Sex, Age, SibSp (Siblings aboard), Parch (Parents/children aboard),\n",
    "# and Fare to predict whether a passenger survived."
   ]
  },
  {
   "cell_type": "code",
   "execution_count": 7,
   "metadata": {},
   "outputs": [
    {
     "name": "stdout",
     "output_type": "stream",
     "text": [
      "Confusion metrics: \n",
      "[[96 14]\n",
      " [18 51]]\n",
      "Accuracy of the model with train and test data is: 82.12290502793296 %\n"
     ]
    }
   ],
   "source": [
    "#importing main libraries \n",
    "import numpy as np\n",
    "import pandas as pd\n",
    "import matplotlib.pyplot as plt\n",
    "\n",
    "\n",
    "#importind data set\n",
    "dataset = pd.read_csv('https://raw.githubusercontent.com/BigDataGal/Python-for-Data-Science/master/titanic-train.csv')\n",
    "\n",
    "X = dataset.loc[:,['Pclass','Sex','Age','SibSp','Parch','Fare']].values\n",
    "y = dataset.loc[:,['Survived']].values\n",
    "\n",
    "from sklearn.preprocessing import Imputer\n",
    "imputer = Imputer(missing_values='NaN',strategy='mean')\n",
    "X[:,[2]] = imputer.fit_transform(X[:,[2]])\n",
    "\n",
    "\n",
    "#encoding using onehotencoder\n",
    "from sklearn.preprocessing import LabelEncoder, OneHotEncoder\n",
    "labelencorder = LabelEncoder()\n",
    "X[:,1] = labelencorder.fit_transform(X[:,1])\n",
    "\n",
    "\n",
    "ohe = OneHotEncoder(categorical_features=[1])\n",
    "X = ohe.fit_transform(X).toarray()\n",
    "\n",
    "#spliting the dataset as training and test dataset\n",
    "from sklearn.model_selection import train_test_split\n",
    "X_train, X_test, y_train, y_test = train_test_split(X, y, test_size = 0.2, random_state =0)\n",
    "\n",
    "#making the model to learn\n",
    "from sklearn.tree import DecisionTreeClassifier\n",
    "classifier = DecisionTreeClassifier(max_depth=3)\n",
    "classifier.fit(X_train,y_train)\n",
    "\n",
    "y_pred = classifier.predict(X_test)\n",
    "\n",
    "from sklearn.metrics import confusion_matrix, accuracy_score\n",
    "c = confusion_matrix(y_test,y_pred)\n",
    "acc = accuracy_score(y_test,y_pred)\n",
    "\n",
    "\n",
    "print(\"Confusion metrics: \")\n",
    "print(c)\n",
    "print(\"Accuracy of the model with train and test data is:\", acc*100,'%')"
   ]
  },
  {
   "cell_type": "code",
   "execution_count": null,
   "metadata": {},
   "outputs": [],
   "source": []
  }
 ],
 "metadata": {
  "kernelspec": {
   "display_name": "Python 3",
   "language": "python",
   "name": "python3"
  },
  "language_info": {
   "codemirror_mode": {
    "name": "ipython",
    "version": 3
   },
   "file_extension": ".py",
   "mimetype": "text/x-python",
   "name": "python",
   "nbconvert_exporter": "python",
   "pygments_lexer": "ipython3",
   "version": "3.6.4"
  }
 },
 "nbformat": 4,
 "nbformat_minor": 2
}
