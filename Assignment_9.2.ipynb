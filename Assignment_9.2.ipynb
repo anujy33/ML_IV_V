{
 "cells": [
  {
   "cell_type": "code",
   "execution_count": 1,
   "metadata": {},
   "outputs": [],
   "source": [
    "# In this assignment students will build the random forest model after normalizing the\n",
    "# variable to house pricing from boston data set.\n",
    "# Following the code to get data into the environment:\n",
    "import numpy as np\n",
    "import pandas as pd\n",
    "import matplotlib.pyplot as plt\n",
    "import seaborn as sns\n",
    "from sklearn.model_selection import train_test_split\n",
    "from sklearn.preprocessing import StandardScaler\n",
    "from sklearn import datasets\n",
    "boston = datasets.load_boston()\n",
    "features = pd.DataFrame(boston.data, columns=boston.feature_names)\n",
    "targets = boston.target\n",
    "# CRIM - per capita crime rate by town\n",
    "# ZN - proportion of residential land zoned for lots over 25,000 sq.ft.\n",
    "# INDUS - proportion of non-retail business acres per town.\n",
    "# CHAS - Charles River dummy variable (1 if tract bounds river; 0 otherwise)\n",
    "# NOX - nitric oxides concentration (parts per 10 million)\n",
    "# RM - average number of rooms per dwelling\n",
    "# AGE - proportion of owner-occupied units built prior to 1940\n",
    "# DIS - weighted distances to five Boston employment centres\n",
    "# RAD - index of accessibility to radial highways\n",
    "# TAX - full-value property-tax rate per $10,000\n",
    "# PTRATIO - pupil-teacher ratio by town\n",
    "# B - 1000(Bk - 0.63)^2 where Bk is the proportion of blacks by town\n",
    "# LSTAT - % lower status of the population\n",
    "# MEDV - Median value of owner-occupied homes in $1000's"
   ]
  },
  {
   "cell_type": "code",
   "execution_count": 2,
   "metadata": {},
   "outputs": [],
   "source": [
    "features['MEDV'] = targets"
   ]
  },
  {
   "cell_type": "code",
   "execution_count": 3,
   "metadata": {},
   "outputs": [],
   "source": [
    "# Initializing the X and Y attributes\n",
    "X = features.iloc[:,:-1].values\n",
    "y = features.iloc[:,-1].values\n",
    "\n",
    "#Dividing the dataset in training and test dataset\n",
    "X_train, X_test, y_train, y_test = train_test_split(X,y, test_size = 0.2, random_state = 0)\n",
    "\n",
    "#Scalling the dataset\n",
    "sc = StandardScaler()\n",
    "X_train = sc.fit_transform(X_train)\n",
    "X_test = sc.fit_transform(X_test)\n",
    "# y_train = sc.fit_transform(y_train)\n",
    "# y_test = sc.fit(y_test)\n",
    "\n",
    "#Applying random forest algorithm\n",
    "from sklearn.ensemble import RandomForestRegressor\n",
    "rfr = RandomForestRegressor(n_estimators=10, criterion='mse', random_state = 10)\n",
    "rfr.fit(X_train, y_train)\n",
    "\n",
    "y_pred = rfr.predict(X_test)\n",
    "\n"
   ]
  },
  {
   "cell_type": "code",
   "execution_count": 5,
   "metadata": {},
   "outputs": [
    {
     "data": {
      "text/plain": [
       "array([24.01, 34.29, 20.95, 10.19, 20.61, 21.  , 21.42, 27.21, 20.45,\n",
       "       17.62,  9.41, 15.65, 15.35,  8.21, 47.32, 34.03, 20.93, 36.51,\n",
       "       30.55, 21.23, 24.16, 20.92, 21.02, 27.36, 21.17, 17.94, 18.61,\n",
       "       15.08, 47.12, 21.01, 14.61, 17.62, 20.17, 21.28, 22.72, 17.03,\n",
       "        7.73, 34.31, 16.58, 16.85, 24.39, 22.09, 22.74, 15.05, 27.84,\n",
       "       31.57, 21.08, 16.17, 13.37, 22.9 , 15.03, 20.2 , 21.86, 41.53,\n",
       "       17.29, 22.4 , 21.21, 20.43, 27.17, 20.51, 21.68, 21.23, 35.54,\n",
       "       30.18, 17.67, 29.33, 16.62, 22.97, 16.42, 21.06, 20.02, 23.67,\n",
       "       24.43, 30.34, 25.92,  9.41, 46.35, 21.49, 23.78, 19.4 , 28.36,\n",
       "       17.87, 27.82, 46.27, 45.51, 24.46, 23.57, 15.79, 25.62, 15.35,\n",
       "       20.31, 12.39, 22.95, 31.98, 22.12, 22.2 , 13.01, 24.64, 14.91,\n",
       "       20.86, 23.64, 20.37])"
      ]
     },
     "execution_count": 5,
     "metadata": {},
     "output_type": "execute_result"
    }
   ],
   "source": [
    "y_pred"
   ]
  },
  {
   "cell_type": "code",
   "execution_count": null,
   "metadata": {},
   "outputs": [],
   "source": []
  }
 ],
 "metadata": {
  "kernelspec": {
   "display_name": "Python 3",
   "language": "python",
   "name": "python3"
  },
  "language_info": {
   "codemirror_mode": {
    "name": "ipython",
    "version": 3
   },
   "file_extension": ".py",
   "mimetype": "text/x-python",
   "name": "python",
   "nbconvert_exporter": "python",
   "pygments_lexer": "ipython3",
   "version": "3.6.4"
  }
 },
 "nbformat": 4,
 "nbformat_minor": 2
}
